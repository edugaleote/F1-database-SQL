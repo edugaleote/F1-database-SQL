{
 "cells": [
  {
   "cell_type": "code",
   "execution_count": 1,
   "metadata": {},
   "outputs": [],
   "source": [
    "import mysql.connector\n",
    "\n",
    "# CONNECTION\n",
    "mydb = mysql.connector.connect(\n",
    "  host=\"localhost\",\n",
    "  user=\"root\",\n",
    "  password=\"Tamaraykiara2\",\n",
    "  database=\"F1_2022\"\n",
    ")\n",
    "# Create a cursor\n",
    "mycursor = mydb.cursor()"
   ]
  },
  {
   "cell_type": "code",
   "execution_count": 2,
   "metadata": {},
   "outputs": [
    {
     "name": "stdout",
     "output_type": "stream",
     "text": [
      "('Alexander Albon', 'ALB', 23, 'Williams', 'Thailand', 2, 201.0, 59, 0, '3(x2)', 4, '23/03/1996', 'London, England')\n",
      "('Carlos Sainz', 'SAI', 55, 'Ferrari', 'Spain', 15, 782.5, 163, 0, '1(x1)', 1, '01/09/1994', 'Madrid, Spain')\n",
      "('Charles Leclerc', 'LEC', 16, 'Ferrari', 'Monaco', 24, 868.0, 103, 0, '1(x5)', 1, '16/10/1997', 'Monte Carlo, Monaco')\n",
      "('Daniel Ricciardo', 'RIC', 3, 'McLaren', 'Australia', 32, 1311.0, 232, 0, '1(x8)', 1, '01/07/1989', 'Perth, Australia')\n",
      "('Esteban Ocon', 'OCO', 31, 'Alpine', 'France', 2, 364.0, 111, 0, '1(x1)', 3, '17/09/1996', 'Evreux, Normandy')\n",
      "('Fernando Alonso', 'ALO', 14, 'Alpine', 'Spain', 98, 2061.0, 358, 2, '1(x32)', 1, '29/07/1981', 'Oviedo, Spain')\n",
      "('George Russell', 'RUS', 63, 'Mercedes', 'United Kingdom', 9, 294.0, 82, 0, '1(x1)', 1, '15/02/1998', \"King's Lynn, England\")\n",
      "('Guanyu Zhou', 'ZHO', 24, 'Alfa Romeo', 'China', 0, 6.0, 22, 0, '8(x1)', 9, '30/05/1999', 'Shanghai, China')\n",
      "('Kevin Magnussen', 'MAG', 20, 'Haas', 'Denmark', 1, 183.0, 142, 0, '2(x1)', 4, '05/10/1992', 'Roskilde, Denmark')\n",
      "('Lance Stroll', 'STR', 18, 'Aston Martin', 'Canada', 3, 194.0, 122, 0, '3(x3)', 1, '29/10/1998', 'Montreal, Canada')\n",
      "('Lando Norris', 'NOR', 4, 'McLaren', 'United Kingdom', 6, 428.0, 82, 0, '2(x1)', 1, '13/11/1999', 'Bristol, England')\n",
      "('Lewis Hamilton', 'HAM', 44, 'Mercedes', 'United Kingdom', 191, 4405.5, 310, 7, '1(x103)', 1, '07/01/1985', 'Stevenage, England')\n",
      "('Max Verstappen', 'VER', 1, 'Red Bull Racing', 'Netherlands', 77, 2011.5, 163, 2, '1(x35)', 1, '30/09/1997', 'Hasselt,Belgium')\n",
      "('Mick Schumacher', 'MSC', 47, 'Haas', 'Germany', 0, 12.0, 43, 0, '6(x1)', 6, '22/03/1999', 'Vufflens-le-Chateau, Switzerland')\n",
      "('Nicholas Latifi', 'LAT', 6, 'Williams', 'Canada', 0, 9.0, 61, 0, '7(x1)', 10, '29/06/1995', 'Montreal, Canada')\n",
      "('Nico Hulkenberg', 'HUL', 27, 'Aston Martin', 'Germany', 0, 521.0, 184, 0, '4(x3)', 1, '19/08/1987', 'Emmerich am Rhein, Germany')\n",
      "('Nyck De Vries', 'DEV', 45, 'Williams', 'Netherlands', 0, 2.0, 1, 0, '9(x1)', 8, '06/02/1995', 'Uitwellingerga, Netherlands')\n",
      "('Pierre Gasly', 'GAS', 10, 'AlphaTauri', 'France', 3, 332.0, 108, 0, '1(x1)', 2, '07/02/1996', 'Rouen, France')\n",
      "('Sebastian Vettel', 'VET', 5, 'Aston Martin', 'Germany', 122, 3098.0, 300, 4, '1(x53)', 1, '03/07/1987', 'Heppenheim, Germany')\n",
      "('Sergio Perez', 'PER', 11, 'Red Bull Racing', 'Mexico', 26, 1201.0, 236, 0, '1(x4)', 1, '26/01/1990', 'Guadalajara, Mexico')\n",
      "('Valtteri Bottas', 'BOT', 77, 'Alfa Romeo', 'Finland', 67, 1787.0, 200, 0, '1(x10)', 1, '28/08/1989', 'Nastola, Finland')\n",
      "('Yuki Tsunoda', 'TSU', 22, 'AlphaTauri', 'Japan', 0, 44.0, 44, 0, '4(x1)', 7, '11/05/2000', 'Sagamihara, Japan')\n"
     ]
    }
   ],
   "source": [
    "# READ EXAMPLE\n",
    "\n",
    "mycursor.execute(\"SELECT * FROM DRIVERS\")\n",
    "myresult = mycursor.fetchall()\n",
    "for x in myresult:\n",
    "    print(x)\n",
    "    "
   ]
  },
  {
   "cell_type": "code",
   "execution_count": 3,
   "metadata": {},
   "outputs": [],
   "source": [
    "# CREATION EXAMPLE\n",
    "\n",
    "sql = \"INSERT INTO DRIVERS (DRIVER, ABBREVIATION, No, TEAM, COUNTRY, PODIUMS, POINTS, GRANDS_PRIX_ENTERED, WORLD_CHAMPIONSHIPS, HIGHEST_FINISH, Highest_Grid_Position, DATE_BIRTH, PLACE_BIRTH) VALUES (%s, %s, %s, %s, %s, %s, %s, %s, %s, %s, %s, %s, %s)\"\n",
    "val = (\"Logan Sargeant\", \"SAR\", 2, \"Williams\", \"United States\", 0, 1, 18, 0, \"10(x1)\", 10, \"2000-12-31\", \"Fort Lauderdale, Florida\")\n",
    "mycursor.execute(sql, val)\n",
    "mydb.commit()\n",
    "mydb.close()"
   ]
  },
  {
   "cell_type": "code",
   "execution_count": 4,
   "metadata": {},
   "outputs": [],
   "source": [
    "# CONNECTION\n",
    "mydb = mysql.connector.connect(\n",
    "  host=\"localhost\",\n",
    "  user=\"root\",\n",
    "  password=\"Tamaraykiara2\",\n",
    "  database=\"F1_2022\"\n",
    ")\n",
    "# Create a cursor\n",
    "mycursor = mydb.cursor()\n",
    "\n",
    "# DELETE EXAMPLE\n",
    "sql = \"DELETE FROM DHL_FAST_LAP_AWARD WHERE track = 'Spain'\"\n",
    "mycursor.execute(sql)\n",
    "mydb.commit()\n",
    "mydb.close()"
   ]
  },
  {
   "cell_type": "code",
   "execution_count": 5,
   "metadata": {},
   "outputs": [],
   "source": [
    "# CONNECTION\n",
    "mydb = mysql.connector.connect(\n",
    "  host=\"localhost\",\n",
    "  user=\"root\",\n",
    "  password=\"Tamaraykiara2\",\n",
    "  database=\"F1_2022\"\n",
    ")\n",
    "# Create a cursor\n",
    "mycursor = mydb.cursor()\n",
    "\n",
    "# UPDATE EXAMPLE\n",
    "\n",
    "sql = \"UPDATE TEAMS SET TEAM_CHIEF = 'Federic Vasseur' WHERE TEAM = 'Ferrari'\"\n",
    "mycursor.execute(sql)\n",
    "\n",
    "sql = \"UPDATE TEAMS SET TEAM_CHIEF = 'Alunni Bravi' WHERE TEAM = 'Alfa Romeo'\"\n",
    "mycursor.execute(sql)\n",
    "mydb.commit()\n",
    "\n",
    "\n",
    "# Close the connection\n",
    "mydb.close()"
   ]
  }
 ],
 "metadata": {
  "kernelspec": {
   "display_name": "base",
   "language": "python",
   "name": "python3"
  },
  "language_info": {
   "codemirror_mode": {
    "name": "ipython",
    "version": 3
   },
   "file_extension": ".py",
   "mimetype": "text/x-python",
   "name": "python",
   "nbconvert_exporter": "python",
   "pygments_lexer": "ipython3",
   "version": "3.9.7"
  }
 },
 "nbformat": 4,
 "nbformat_minor": 2
}
